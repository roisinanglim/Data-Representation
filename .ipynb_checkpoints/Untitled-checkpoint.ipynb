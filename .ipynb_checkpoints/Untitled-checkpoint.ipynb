{
 "cells": [
  {
   "cell_type": "markdown",
   "metadata": {},
   "source": [
    "## WebScrapping My Home"
   ]
  },
  {
   "cell_type": "code",
   "execution_count": null,
   "metadata": {},
   "outputs": [],
   "source": [
    "import requests\n",
    "import csv\n",
    "from bs4 import BeautifulSoup\n",
    "url = \"https://www.myhome.ie/residential/meath/property-for-sale-in-ashbourne?page=1\"\n",
    "page = requests.get(url)\n",
    "soup1 = BeautifulSoup(page.content,'html.parser')\n",
    "home_file = (open'week03myhome.csv',mode='w')\n",
    "home_writer = csv.writer(home_file,delimiter = '\\t',quotechar=\"\",quoting= csv.QUOTE_MINIMAL)\n",
    "\n",
    "# Find the div where the class is equal to Property card listing\n",
    "listings = soup.findAll(\"div\",class_=\"PropertyCardListing\")\n",
    "\n",
    "# Within the page retrn the price and address for each listing\n",
    "for listing in listings:\n",
    "    entrylist= []\n",
    "    price = lising.find(\"ProperCardListing_Price\").text\n",
    "    entrylist.append(price)\n",
    "    address = listing.find(class_\"ProperCardListing_Address\").text\n",
    "    entrylist.append(address)\n",
    "    \n",
    "    home_writter.writerow(entrylist)\n",
    "\n",
    "home_file.close()\n",
    "    \n"
   ]
  },
  {
   "cell_type": "code",
   "execution_count": null,
   "metadata": {},
   "outputs": [],
   "source": []
  }
 ],
 "metadata": {
  "kernelspec": {
   "display_name": "Python 3",
   "language": "python",
   "name": "python3"
  },
  "language_info": {
   "codemirror_mode": {
    "name": "ipython",
    "version": 3
   },
   "file_extension": ".py",
   "mimetype": "text/x-python",
   "name": "python",
   "nbconvert_exporter": "python",
   "pygments_lexer": "ipython3",
   "version": "3.7.3"
  }
 },
 "nbformat": 4,
 "nbformat_minor": 2
}
